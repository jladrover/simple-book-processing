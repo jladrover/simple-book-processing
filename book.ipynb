{
 "cells": [
  {
   "attachments": {},
   "cell_type": "markdown",
   "metadata": {},
   "source": [
    "## Book 1: Moby Dick\n",
    "written by Herman Melville, https://www.gutenberg.org/files/2701/2701-0.txt, public domain in the US, encoding = 'UTF-8' \\\n",
    "```Question: What is the most commmonly used singular pronoun in Moby Dick?```\n",
    "\n",
    "## Book 2: The Great Gasby\n",
    "written by Scott Fitzgerald, https://www.gutenberg.org/cache/epub/64317/pg64317.txt, public domain in the US, encoding = 'UTF-8' \\\n",
    "```Question: Who was the most frequently mentioned character by their first name in The Great Gatsby?```\n",
    "\n",
    "\n"
   ]
  },
  {
   "attachments": {},
   "cell_type": "markdown",
   "metadata": {},
   "source": [
    "So for the first book (Moby Dick), we want to loop line by line in the novel where each line is converted to a temporary list of words separated by spaces. A dictionary of english singular pronouns is thus created with the pronouns being keys and their counts as values (initially zero). Looping through each lowercase word in the wordlist, if a list element is in the key, then it is matched with the key of the dictionary and its value is incremented by 1. This process is continued until the end of the file and we output the dictionary for analysis. We see that 'it', possibly referring to Moby Dick in the novel, is the most commonly used singular pronoun, with 'i' and 'he' coming in second and third respectively."
   ]
  },
  {
   "cell_type": "code",
   "execution_count": 3,
   "metadata": {},
   "outputs": [
    {
     "name": "stdout",
     "output_type": "stream",
     "text": [
      "{'i': 1723, 'you': 843, 'he': 1683, 'it': 1777, 'she': 113, 'me': 340, 'him': 555, 'her': 277}\n"
     ]
    }
   ],
   "source": [
    "with open('data/moby.txt', encoding='UTF-8') as f:\n",
    "    pronoun_dict = {\n",
    "        'i' : 0, \n",
    "        'you': 0, \n",
    "        'he' : 0, \n",
    "        'it' : 0,\n",
    "        'she' : 0, \n",
    "        'it' : 0, \n",
    "        'me' : 0, \n",
    "        'him' : 0, \n",
    "        'her' : 0\n",
    "    }\n",
    "    for line in f:\n",
    "        word_list = line.strip().split()\n",
    "        for word in word_list:\n",
    "            if word.lower() in pronoun_dict.keys():\n",
    "                pronoun_dict[word.lower()] = pronoun_dict[word.lower()] + 1\n",
    "\n",
    "    print(pronoun_dict)"
   ]
  },
  {
   "attachments": {},
   "cell_type": "markdown",
   "metadata": {},
   "source": [
    "For the second book (The Great Gatsby), we want to similarly loop line by line in the novel where each line is converted to a temporary list of words separated by spaces. A dictionary of the four main characters of the novel is initialized with their first names being keys and their number of appearances in the text as values (initially zero). Looping through each lowercase word in the wordlist, if a list element is in the key, then it is matched with the key of the dictionary and its value is incremented by 1. This process is continued until the end of the file and we output the dictionary for analysis. We see that 'tom' is first, 'daisy' is second, and 'jay' is third in order of the most mentioned first names of the main characters of the novel."
   ]
  },
  {
   "cell_type": "code",
   "execution_count": 7,
   "metadata": {},
   "outputs": [
    {
     "name": "stdout",
     "output_type": "stream",
     "text": [
      "{'nick': 5, 'jay': 9, 'daisy': 99, 'tom': 115}\n"
     ]
    }
   ],
   "source": [
    "with open('data/gatsby.txt', encoding='UTF-8') as f:\n",
    "    char_dict = {\n",
    "        'nick' : 0, \n",
    "        'jay': 0, \n",
    "        'daisy' : 0, \n",
    "        'tom' : 0, \n",
    "    }\n",
    "    for line in f:\n",
    "        word_list = line.strip().split()\n",
    "        for word in word_list:\n",
    "            if word.lower() in char_dict.keys():\n",
    "                char_dict[word.lower()] = char_dict[word.lower()] + 1\n",
    "\n",
    "    print(char_dict)"
   ]
  }
 ],
 "metadata": {
  "kernelspec": {
   "display_name": "Python 3",
   "language": "python",
   "name": "python3"
  },
  "language_info": {
   "codemirror_mode": {
    "name": "ipython",
    "version": 3
   },
   "file_extension": ".py",
   "mimetype": "text/x-python",
   "name": "python",
   "nbconvert_exporter": "python",
   "pygments_lexer": "ipython3",
   "version": "3.9.7 (tags/v3.9.7:1016ef3, Aug 30 2021, 20:19:38) [MSC v.1929 64 bit (AMD64)]"
  },
  "vscode": {
   "interpreter": {
    "hash": "aefdb3eec8da1c437e62887e66b5039ce8562887f9f4aaebe3a4148c9bc627d3"
   }
  }
 },
 "nbformat": 4,
 "nbformat_minor": 4
}
